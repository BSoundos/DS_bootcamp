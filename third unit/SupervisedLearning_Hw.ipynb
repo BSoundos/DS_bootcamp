{
 "cells": [
  {
   "cell_type": "code",
   "execution_count": 1,
   "id": "7d4a3406",
   "metadata": {},
   "outputs": [],
   "source": [
    "from sklearn.datasets import load_breast_cancer \n",
    "from sklearn.model_selection import train_test_split \n",
    "from sklearn import metrics "
   ]
  },
  {
   "cell_type": "code",
   "execution_count": 2,
   "id": "f14bb777",
   "metadata": {},
   "outputs": [
    {
     "name": "stdout",
     "output_type": "stream",
     "text": [
      "(398, 30) (171, 30) (398,) (171,)\n"
     ]
    }
   ],
   "source": [
    "x,y = load_breast_cancer (return_X_y = True)\n",
    "x_train,x_test,y_train,y_test = train_test_split(x,y,test_size=0.3,random_state=0)\n",
    "print(x_train.shape,x_test.shape,y_train.shape,y_test.shape)"
   ]
  },
  {
   "cell_type": "code",
   "execution_count": 5,
   "id": "5452e905",
   "metadata": {},
   "outputs": [
    {
     "name": "stdout",
     "output_type": "stream",
     "text": [
      "[[1.799e+01 1.038e+01 1.228e+02 1.001e+03 1.184e-01 2.776e-01 3.001e-01\n",
      "  1.471e-01 2.419e-01 7.871e-02 1.095e+00 9.053e-01 8.589e+00 1.534e+02\n",
      "  6.399e-03 4.904e-02 5.373e-02 1.587e-02 3.003e-02 6.193e-03 2.538e+01\n",
      "  1.733e+01 1.846e+02 2.019e+03 1.622e-01 6.656e-01 7.119e-01 2.654e-01\n",
      "  4.601e-01 1.189e-01]]\n"
     ]
    }
   ],
   "source": [
    "#1. Using naive bayes \n",
    "print(x[:1]) # to know the type of features"
   ]
  },
  {
   "cell_type": "code",
   "execution_count": 6,
   "id": "08b99998",
   "metadata": {},
   "outputs": [
    {
     "data": {
      "text/plain": [
       "dtype('float64')"
      ]
     },
     "execution_count": 6,
     "metadata": {},
     "output_type": "execute_result"
    }
   ],
   "source": [
    "x.dtype # continious values  ===> We use the Gaussian classifier "
   ]
  },
  {
   "cell_type": "code",
   "execution_count": 23,
   "id": "3b00cb29",
   "metadata": {},
   "outputs": [
    {
     "name": "stdout",
     "output_type": "stream",
     "text": [
      "0.07602339181286555\n"
     ]
    }
   ],
   "source": [
    "# import Gaussian naive bayes \n",
    "from sklearn.naive_bayes import GaussianNB\n",
    "gnb = GaussianNB()\n",
    "\n",
    "# train and test the model \n",
    "y_pred = gnb.fit(x_train,y_train).predict(x_test)\n",
    "\n",
    "err1 = 1.0 - metrics.accuracy_score(y_test,y_pred) \n",
    "print(err1)"
   ]
  },
  {
   "cell_type": "code",
   "execution_count": 27,
   "id": "bad0a28d",
   "metadata": {},
   "outputs": [
    {
     "name": "stdout",
     "output_type": "stream",
     "text": [
      "13\n"
     ]
    }
   ],
   "source": [
    "print(int(err1* len(y_pred)))"
   ]
  },
  {
   "cell_type": "code",
   "execution_count": 24,
   "id": "562986aa",
   "metadata": {},
   "outputs": [
    {
     "name": "stdout",
     "output_type": "stream",
     "text": [
      "0.368421052631579\n"
     ]
    }
   ],
   "source": [
    "# 2. Using SVM\n",
    "from sklearn import svm\n",
    "\n",
    "clf = svm.SVC(gamma='auto')\n",
    "clf.fit(x_train,y_train)\n",
    "\n",
    "y_pred = clf.predict(x_test)\n",
    "\n",
    "err2 = 1.0 - metrics.accuracy_score(y_test,y_pred) \n",
    "print(err2)"
   ]
  },
  {
   "cell_type": "code",
   "execution_count": 28,
   "id": "40d94764",
   "metadata": {},
   "outputs": [
    {
     "name": "stdout",
     "output_type": "stream",
     "text": [
      "63\n"
     ]
    }
   ],
   "source": [
    "print(int(err2* len(y_pred)))"
   ]
  },
  {
   "cell_type": "code",
   "execution_count": 29,
   "id": "81536e78",
   "metadata": {},
   "outputs": [
    {
     "name": "stdout",
     "output_type": "stream",
     "text": [
      "0.368421052631579\n"
     ]
    }
   ],
   "source": [
    "# 3. Using Decision trees \n",
    "from sklearn import tree \n",
    "\n",
    "clf = tree.DecisionTreeClassifier(criterion='entropy')\n",
    "clf = clf.fit(x_train,y_train)\n",
    "\n",
    "y=pred = clf.predict(x_test)\n",
    "\n",
    "err3 = 1.0 - metrics.accuracy_score(y_test,y_pred) \n",
    "print(err3)"
   ]
  },
  {
   "cell_type": "code",
   "execution_count": 30,
   "id": "96d556f2",
   "metadata": {},
   "outputs": [
    {
     "name": "stdout",
     "output_type": "stream",
     "text": [
      "63\n"
     ]
    }
   ],
   "source": [
    "print(int(err3* len(y_pred)))"
   ]
  },
  {
   "cell_type": "code",
   "execution_count": 59,
   "id": "298d390d",
   "metadata": {},
   "outputs": [
    {
     "name": "stdout",
     "output_type": "stream",
     "text": [
      "0.023391812865497075\n"
     ]
    }
   ],
   "source": [
    "# 4. Using random forests \n",
    "from sklearn.ensemble import RandomForestClassifier\n",
    "\n",
    "# using 70 decision trees & the entropy criterion \n",
    "clf = RandomForestClassifier(n_estimators =70, criterion='entropy', random_state=0)\n",
    "clf = clf.fit(x_train,y_train)\n",
    "\n",
    "y_pred = clf.predict(x_test)\n",
    "\n",
    "err4 = 1.0 - metrics.accuracy_score(y_test,y_pred) \n",
    "print(err4)"
   ]
  },
  {
   "cell_type": "code",
   "execution_count": 60,
   "id": "439888bc",
   "metadata": {},
   "outputs": [
    {
     "name": "stdout",
     "output_type": "stream",
     "text": [
      "4\n"
     ]
    }
   ],
   "source": [
    "print(int(err4* len(y_pred)))"
   ]
  },
  {
   "cell_type": "code",
   "execution_count": null,
   "id": "0bbf5f9d",
   "metadata": {},
   "outputs": [],
   "source": [
    "# Which method returns the best results?\n",
    "# The last method : Random forests with 10 trees it gives : 8 misslabeled points , and with 70 trees : only 4 ! "
   ]
  }
 ],
 "metadata": {
  "kernelspec": {
   "display_name": "Python 3",
   "language": "python",
   "name": "python3"
  },
  "language_info": {
   "codemirror_mode": {
    "name": "ipython",
    "version": 3
   },
   "file_extension": ".py",
   "mimetype": "text/x-python",
   "name": "python",
   "nbconvert_exporter": "python",
   "pygments_lexer": "ipython3",
   "version": "3.8.8"
  }
 },
 "nbformat": 4,
 "nbformat_minor": 5
}
